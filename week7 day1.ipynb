{
 "cells": [
  {
   "cell_type": "markdown",
   "metadata": {},
   "source": [
    "## Review of oop (last lecture)"
   ]
  },
  {
   "cell_type": "code",
   "execution_count": 1,
   "metadata": {},
   "outputs": [],
   "source": [
    "class Bank(object):\n",
    "    serial=0\n",
    "    def __init__(self,surname=\"Doe\",first_name=\"John\",email=\"johndoe@gmail.com\",init_dep=0):\n",
    "        bank_name=\"Smart Bank\" # Class attribute or variable\n",
    "        self.serial +=1\n",
    "        self.surname=surname\n",
    "        self.first_name=first_name\n",
    "        self.email=email\n",
    "        self.init_dep=init_dep\n",
    "        self.bal=init_dep\n",
    "    def withdrawal(self,amt):\n",
    "        if amt>=self.bal:\n",
    "            return \"Insufficient fund!\"\n",
    "        else:\n",
    "            \n",
    "            self.bal -=amt\n",
    "    def make_dep(self,amt):\n",
    "        self.bal+=amt"
   ]
  },
  {
   "cell_type": "code",
   "execution_count": 3,
   "metadata": {},
   "outputs": [],
   "source": [
    "client1=Bank(\"George\",\"Smith\",\"bomageorge@gmail.com\",10000000)"
   ]
  },
  {
   "cell_type": "code",
   "execution_count": 5,
   "metadata": {},
   "outputs": [
    {
     "data": {
      "text/plain": [
       "10000000"
      ]
     },
     "execution_count": 5,
     "metadata": {},
     "output_type": "execute_result"
    }
   ],
   "source": [
    "client1.init_dep"
   ]
  },
  {
   "cell_type": "code",
   "execution_count": 6,
   "metadata": {},
   "outputs": [
    {
     "data": {
      "text/plain": [
       "10000000"
      ]
     },
     "execution_count": 6,
     "metadata": {},
     "output_type": "execute_result"
    }
   ],
   "source": [
    "client1.bal"
   ]
  },
  {
   "cell_type": "code",
   "execution_count": 7,
   "metadata": {},
   "outputs": [],
   "source": [
    "client1.withdrawal(200000)"
   ]
  },
  {
   "cell_type": "code",
   "execution_count": 8,
   "metadata": {},
   "outputs": [
    {
     "data": {
      "text/plain": [
       "10000000"
      ]
     },
     "execution_count": 8,
     "metadata": {},
     "output_type": "execute_result"
    }
   ],
   "source": [
    "client1.init_dep"
   ]
  },
  {
   "cell_type": "code",
   "execution_count": 9,
   "metadata": {},
   "outputs": [
    {
     "data": {
      "text/plain": [
       "9800000"
      ]
     },
     "execution_count": 9,
     "metadata": {},
     "output_type": "execute_result"
    }
   ],
   "source": [
    "client1.bal"
   ]
  },
  {
   "cell_type": "code",
   "execution_count": 10,
   "metadata": {},
   "outputs": [],
   "source": [
    "client1.bal=2000000000000"
   ]
  },
  {
   "cell_type": "code",
   "execution_count": 11,
   "metadata": {},
   "outputs": [
    {
     "data": {
      "text/plain": [
       "2000000000000"
      ]
     },
     "execution_count": 11,
     "metadata": {},
     "output_type": "execute_result"
    }
   ],
   "source": [
    "client1.bal"
   ]
  },
  {
   "cell_type": "markdown",
   "metadata": {},
   "source": [
    "## Encapsulation"
   ]
  },
  {
   "cell_type": "code",
   "execution_count": 12,
   "metadata": {},
   "outputs": [],
   "source": [
    "class Bank(object):\n",
    "    serial=0\n",
    "    def __init__(self,surname=\"Doe\",first_name=\"John\",email=\"johndoe@gmail.com\",init_dep=0):\n",
    "        bank_name=\"Smart Bank\" # Class attribute or variable\n",
    "        self.serial +=1\n",
    "        self.surname=surname\n",
    "        self.first_name=first_name\n",
    "        self.email=email\n",
    "        self.init_dep=init_dep\n",
    "        self.__bal=init_dep\n",
    "    def withdrawal(self,amt):\n",
    "        if amt>=self.bal:\n",
    "            return \"Insufficient fund!\"\n",
    "        else:\n",
    "            \n",
    "            self.bal -=amt\n",
    "    def make_dep(self,amt):\n",
    "        self.bal+=amt"
   ]
  },
  {
   "cell_type": "code",
   "execution_count": 13,
   "metadata": {},
   "outputs": [],
   "source": [
    "client1=Bank(\"George\",\"Smith\",\"bomageorge@gmail.com\",10000000)"
   ]
  },
  {
   "cell_type": "code",
   "execution_count": 14,
   "metadata": {},
   "outputs": [
    {
     "ename": "AttributeError",
     "evalue": "'Bank' object has no attribute 'bal'",
     "output_type": "error",
     "traceback": [
      "\u001b[1;31m---------------------------------------------------------------------------\u001b[0m",
      "\u001b[1;31mAttributeError\u001b[0m                            Traceback (most recent call last)",
      "\u001b[1;32m<ipython-input-14-4312098aa302>\u001b[0m in \u001b[0;36m<module>\u001b[1;34m\u001b[0m\n\u001b[1;32m----> 1\u001b[1;33m \u001b[0mclient1\u001b[0m\u001b[1;33m.\u001b[0m\u001b[0mbal\u001b[0m\u001b[1;33m\u001b[0m\u001b[1;33m\u001b[0m\u001b[0m\n\u001b[0m",
      "\u001b[1;31mAttributeError\u001b[0m: 'Bank' object has no attribute 'bal'"
     ]
    }
   ],
   "source": [
    "client1.bal"
   ]
  },
  {
   "cell_type": "code",
   "execution_count": 15,
   "metadata": {},
   "outputs": [
    {
     "ename": "AttributeError",
     "evalue": "'Bank' object has no attribute '__bal'",
     "output_type": "error",
     "traceback": [
      "\u001b[1;31m---------------------------------------------------------------------------\u001b[0m",
      "\u001b[1;31mAttributeError\u001b[0m                            Traceback (most recent call last)",
      "\u001b[1;32m<ipython-input-15-de77a12c8cf2>\u001b[0m in \u001b[0;36m<module>\u001b[1;34m\u001b[0m\n\u001b[1;32m----> 1\u001b[1;33m \u001b[0mclient1\u001b[0m\u001b[1;33m.\u001b[0m\u001b[0m__bal\u001b[0m\u001b[1;33m\u001b[0m\u001b[1;33m\u001b[0m\u001b[0m\n\u001b[0m",
      "\u001b[1;31mAttributeError\u001b[0m: 'Bank' object has no attribute '__bal'"
     ]
    }
   ],
   "source": [
    "client1.__bal"
   ]
  },
  {
   "cell_type": "markdown",
   "metadata": {},
   "source": [
    "## Getters and setters"
   ]
  },
  {
   "cell_type": "code",
   "execution_count": 16,
   "metadata": {},
   "outputs": [],
   "source": [
    "class Bank(object):\n",
    "    serial=0\n",
    "    def __init__(self,surname=\"Doe\",first_name=\"John\",email=\"johndoe@gmail.com\",init_dep=0):\n",
    "        bank_name=\"Smart Bank\" # Class attribute or variable\n",
    "        self.serial +=1\n",
    "        self.surname=surname\n",
    "        self.first_name=first_name\n",
    "        self.email=email\n",
    "        self.init_dep=init_dep\n",
    "        self.__bal=init_dep\n",
    "    def withdrawal(self,amt):\n",
    "        if amt>=self.__bal:\n",
    "            return \"Insufficient fund!\"\n",
    "        else:\n",
    "            \n",
    "            self.bal -=amt\n",
    "    def make_dep(self,amt):\n",
    "        self.__bal+=amt\n",
    "    def get_bal(self):\n",
    "        return self.__bal"
   ]
  },
  {
   "cell_type": "code",
   "execution_count": 17,
   "metadata": {},
   "outputs": [],
   "source": [
    "client1=Bank(\"George\",\"Smith\",\"bomageorge@gmail.com\",10000000)"
   ]
  },
  {
   "cell_type": "code",
   "execution_count": 23,
   "metadata": {},
   "outputs": [
    {
     "data": {
      "text/plain": [
       "<bound method Bank.get_bal of <__main__.Bank object at 0x0462F190>>"
      ]
     },
     "execution_count": 23,
     "metadata": {},
     "output_type": "execute_result"
    }
   ],
   "source": [
    "client1.get_bal()"
   ]
  },
  {
   "cell_type": "code",
   "execution_count": 20,
   "metadata": {},
   "outputs": [],
   "source": [
    "client1.surname=\"Akeem\"\n",
    "client1.first_name=\"Kayode\""
   ]
  },
  {
   "cell_type": "code",
   "execution_count": 21,
   "metadata": {},
   "outputs": [
    {
     "data": {
      "text/plain": [
       "10000000"
      ]
     },
     "execution_count": 21,
     "metadata": {},
     "output_type": "execute_result"
    }
   ],
   "source": [
    "client1.get_bal()"
   ]
  },
  {
   "cell_type": "code",
   "execution_count": 22,
   "metadata": {},
   "outputs": [
    {
     "data": {
      "text/plain": [
       "'Akeem'"
      ]
     },
     "execution_count": 22,
     "metadata": {},
     "output_type": "execute_result"
    }
   ],
   "source": [
    "client1.surname"
   ]
  },
  {
   "cell_type": "code",
   "execution_count": 42,
   "metadata": {},
   "outputs": [],
   "source": [
    "class Car:\n",
    "    def __init__(self,colour=\"black\",price=None,engine_numb=None):\n",
    "        self.__colour=colour\n",
    "        self.__price=price\n",
    "        self.__engine_no=engine_numb\n",
    "        \n",
    "    def set_colour(self,colour):\n",
    "        self.__colour=colour\n",
    "    def get_colour(self):\n",
    "        return self.__colour\n",
    "    "
   ]
  },
  {
   "cell_type": "code",
   "execution_count": 30,
   "metadata": {},
   "outputs": [],
   "source": [
    "car1=Car(\"blue\",250000000,\"ty00195\")"
   ]
  },
  {
   "cell_type": "code",
   "execution_count": 32,
   "metadata": {},
   "outputs": [
    {
     "data": {
      "text/plain": [
       "'blue'"
      ]
     },
     "execution_count": 32,
     "metadata": {},
     "output_type": "execute_result"
    }
   ],
   "source": [
    "car1.get_colour()"
   ]
  },
  {
   "cell_type": "code",
   "execution_count": 33,
   "metadata": {},
   "outputs": [],
   "source": [
    "car1.set_colour(\"white\")"
   ]
  },
  {
   "cell_type": "code",
   "execution_count": 34,
   "metadata": {},
   "outputs": [
    {
     "data": {
      "text/plain": [
       "'white'"
      ]
     },
     "execution_count": 34,
     "metadata": {},
     "output_type": "execute_result"
    }
   ],
   "source": [
    "car1.get_colour()"
   ]
  },
  {
   "cell_type": "markdown",
   "metadata": {},
   "source": [
    "## Inheritance"
   ]
  },
  {
   "cell_type": "code",
   "execution_count": 55,
   "metadata": {},
   "outputs": [],
   "source": [
    "class Car:\n",
    "    def __init__(self,colour=\"black\",price=None,engine_numb=None):\n",
    "        self.colour=colour\n",
    "        self.__price=price\n",
    "        self.__engine_no=engine_numb\n",
    "        \n",
    "    def set_colour(self,colour):\n",
    "        self.__colour=colour\n",
    "    def get_colour(self):\n",
    "        return self.colour\n",
    "class Toyota(Car):\n",
    "    pass"
   ]
  },
  {
   "cell_type": "code",
   "execution_count": 54,
   "metadata": {},
   "outputs": [],
   "source": [
    "car2=Toyota()"
   ]
  },
  {
   "cell_type": "code",
   "execution_count": 38,
   "metadata": {},
   "outputs": [
    {
     "data": {
      "text/plain": [
       "'black'"
      ]
     },
     "execution_count": 38,
     "metadata": {},
     "output_type": "execute_result"
    }
   ],
   "source": [
    "car2.get_colour()"
   ]
  },
  {
   "cell_type": "code",
   "execution_count": 39,
   "metadata": {},
   "outputs": [],
   "source": [
    "car2=Toyota(engine_numb=\"tp0091\")"
   ]
  },
  {
   "cell_type": "code",
   "execution_count": null,
   "metadata": {},
   "outputs": [],
   "source": [
    "car2."
   ]
  },
  {
   "cell_type": "code",
   "execution_count": 62,
   "metadata": {},
   "outputs": [],
   "source": [
    "class Toyota(Car):\n",
    "    def get_colour(self):\n",
    "        return f\"Default colour is {self.colour}\""
   ]
  },
  {
   "cell_type": "code",
   "execution_count": 63,
   "metadata": {},
   "outputs": [],
   "source": [
    "car2=Toyota()\n",
    "car2.set_colour(\"green\")"
   ]
  },
  {
   "cell_type": "code",
   "execution_count": 64,
   "metadata": {},
   "outputs": [
    {
     "data": {
      "text/plain": [
       "'Default colour is black'"
      ]
     },
     "execution_count": 64,
     "metadata": {},
     "output_type": "execute_result"
    }
   ],
   "source": [
    "car2.get_colour()"
   ]
  },
  {
   "cell_type": "markdown",
   "metadata": {},
   "source": [
    "## Using classes On gui"
   ]
  },
  {
   "cell_type": "code",
   "execution_count": null,
   "metadata": {},
   "outputs": [],
   "source": [
    "from tkinter import *\n",
    "from tkinter import ttk,messagebox\n",
    "\n",
    "class TicTacToe:\n",
    "    def __init__(self,master):\n",
    "        self.counter=0\n",
    "        self.master=master\n",
    "        self.master.title(\"TicTacToe\")\n",
    "        self.option_frame=LabelFrame(self.master,text=\"Option\")\n",
    "        self.option_frame.grid(row=1,column=0)\n",
    "        \n",
    "        self.player1_var=StringVar()\n",
    "        self.player1_lbl=Label(self.option_frame,text=\"player one:\").grid(row=0,column=0)\n",
    "        self.player1_radioX=Radiobutton(self.option_frame,text=\"X\",variable=self.player1_var,value=2).grid(row=0,column=1)\n",
    "        self.player1_radioO=Radiobutton(self.option_frame,text=\"O\",variable=self.player1_var,value=1).grid(row=0,column=2)\n",
    "        self.player1_var.set(6)\n",
    "        \n",
    "\n",
    "        \n",
    "        self.player2_var=StringVar()\n",
    "        self.player2_lbl=Label(self.option_frame,text=\"player two:\").grid(row=1,column=0)\n",
    "        self.player2_radioX=Radiobutton(self.option_frame,text=\"X\",variable=self.player2_var,value=2).grid(row=1,column=1)\n",
    "        self.player2_radioO=Radiobutton(self.option_frame,text=\"O\",variable=self.player2_var,value=1).grid(row=1,column=2)\n",
    "        self.player2_var.set(6)\n",
    "        self.control_frame=Frame(self.master)\n",
    "        self.control_frame.grid(row=2,column=0)\n",
    "        \n",
    "        self.next_btn=ttk.Button(self.control_frame,text=\"Next\",command=self.next_page,state=DISABLED)\n",
    "        self.next_btn.grid(row=0,column=0)\n",
    "        self.exit_btn=ttk.Button(self.control_frame,text=\"Exit\").grid(row=0,column=1)\n",
    "        self.player1_var.trace(\"w\",self.choice_made)\n",
    "        self.player2_var.trace(\"w\",self.choice_made)\n",
    "        \n",
    "    def choice_made(self,*e):\n",
    "        \n",
    "        value=int(self.player1_var.get())\n",
    "        if value==1:\n",
    "            self.player2_var.set(2)\n",
    "            self.player2_val=\"X\"\n",
    "            self.player1_val=\"O\"\n",
    "        elif value==2:\n",
    "            self.player2_var.set(1)\n",
    "            self.player2_val=\"O\"\n",
    "            self.player1_val=\"X\"\n",
    "        if int(self.player1_var.get())!=6:\n",
    "            self.next_btn.config(state=NORMAL)\n",
    "            \n",
    "            \n",
    "    def next_page(self):\n",
    "        self.tictacpage=Toplevel()\n",
    "        self.tictacpage.title(\"Game Page\")\n",
    "        self.btn11=Button(self.tictacpage,width=3,font=\"times 40 bold\",command=lambda:self.play(\"a11\"))\n",
    "        self.btn11.grid(row=0,column=0)\n",
    "        self.btn12=Button(self.tictacpage,width=3,font=\"times 40 bold\",command=lambda:self.play(\"a12\"))\n",
    "        self.btn12.grid(row=0,column=1)\n",
    "        self.btn13=Button(self.tictacpage,width=3,font=\"times 40 bold\",command=lambda:self.play(\"a13\"))\n",
    "        self.btn13.grid(row=0,column=2)\n",
    "        \n",
    "        self.btn21=Button(self.tictacpage,width=3,font=\"times 40 bold\",command=lambda:self.play(\"a21\"))\n",
    "        self.btn21.grid(row=1,column=0)\n",
    "        self.btn22=Button(self.tictacpage,width=3,font=\"times 40 bold\",command=lambda:self.play(\"a22\"))\n",
    "        self.btn22.grid(row=1,column=1)\n",
    "        self.btn23=Button(self.tictacpage,width=3,font=\"times 40 bold\",command=lambda:self.play(\"a23\"))\n",
    "        self.btn23.grid(row=1,column=2)\n",
    "        \n",
    "        self.btn31=Button(self.tictacpage,width=3,font=\"times 40 bold\",command=lambda:self.play(\"a31\"))\n",
    "        self.btn31.grid(row=2,column=0)\n",
    "        self.btn32=Button(self.tictacpage,width=3,font=\"times 40 bold\",command=lambda:self.play(\"a32\"))\n",
    "        self.btn32.grid(row=2,column=1)\n",
    "        self.btn33=Button(self.tictacpage,width=3,font=\"times 40 bold\",command=lambda:self.play(\"a33\"))\n",
    "        self.btn33.grid(row=2,column=2)\n",
    "        \n",
    "    def play(self,code):\n",
    "        self.counter +=1\n",
    "        if self.counter%2==1:\n",
    "            self.display=self.player1_val\n",
    "        else:\n",
    "            self.display=self.player2_val\n",
    "        if code==\"a11\":\n",
    "            self.btn11.config(text=self.display,state=DISABLED)\n",
    "        elif code==\"a12\":\n",
    "            self.btn12.config(text=self.display,state=DISABLED)\n",
    "        elif code==\"a13\":\n",
    "            self.btn13.config(text=self.display,state=DISABLED)\n",
    "        elif code==\"a21\":\n",
    "            self.btn21.config(text=self.display,state=DISABLED)\n",
    "        elif code==\"a22\":\n",
    "            self.btn22.config(text=self.display,state=DISABLED)\n",
    "        elif code==\"a23\":\n",
    "            self.btn23.config(text=self.display,state=DISABLED)\n",
    "        elif code==\"a31\":\n",
    "            self.btn31.config(text=self.display,state=DISABLED)\n",
    "        elif code==\"a32\":\n",
    "            self.btn32.config(text=self.display,state=DISABLED)\n",
    "        elif code==\"a33\":\n",
    "            self.btn33.config(text=self.display,state=DISABLED)\n",
    "        self.chek_result()\n",
    "    def chek_result(self):\n",
    "        if (self.btn11[\"text\"]==self.btn12[\"text\"]==self.btn13[\"text\"]==\"X\" or self.btn11[\"text\"]==self.btn12[\"text\"]==self.btn13[\"text\"]==\"O\"):\n",
    "            messagebox.showinfo(\"Game Status\",\"Game Over!!\")\n",
    "        elif (self.btn21[\"text\"]==self.btn12[\"text\"]==self.btn13[\"text\"]==\"X\" or self.btn22[\"text\"]==self.btn12[\"text\"]==self.btn23[\"text\"]==\"O\"):\n",
    "            messagebox.showinfo(\"Game Status\",\"Game Over!!\")\n",
    "        elif (self.btn31[\"text\"]==self.btn12[\"text\"]==self.btn13[\"text\"]==\"X\" or self.btn32[\"text\"]==self.btn12[\"text\"]==self.btn33[\"text\"]==\"O\"):\n",
    "            messagebox.showinfo(\"Game Status\",\"Game Over!!\")\n",
    "           \n",
    "            \n",
    "        \n",
    "        \n",
    "        \n",
    "        \n",
    "        \n",
    "        \n",
    "\n",
    "        \n",
    "        \n",
    "        \n",
    "        \n",
    "        \n",
    "root=Tk()\n",
    "app1=TicTacToe(root)\n",
    "root.mainloop()"
   ]
  },
  {
   "cell_type": "code",
   "execution_count": null,
   "metadata": {},
   "outputs": [],
   "source": []
  },
  {
   "cell_type": "code",
   "execution_count": null,
   "metadata": {},
   "outputs": [],
   "source": []
  },
  {
   "cell_type": "code",
   "execution_count": null,
   "metadata": {},
   "outputs": [],
   "source": []
  },
  {
   "cell_type": "code",
   "execution_count": null,
   "metadata": {},
   "outputs": [],
   "source": []
  },
  {
   "cell_type": "code",
   "execution_count": null,
   "metadata": {},
   "outputs": [],
   "source": []
  },
  {
   "cell_type": "code",
   "execution_count": null,
   "metadata": {},
   "outputs": [],
   "source": []
  },
  {
   "cell_type": "code",
   "execution_count": null,
   "metadata": {},
   "outputs": [],
   "source": []
  },
  {
   "cell_type": "code",
   "execution_count": null,
   "metadata": {},
   "outputs": [],
   "source": []
  }
 ],
 "metadata": {
  "kernelspec": {
   "display_name": "Python 3",
   "language": "python",
   "name": "python3"
  },
  "language_info": {
   "codemirror_mode": {
    "name": "ipython",
    "version": 3
   },
   "file_extension": ".py",
   "mimetype": "text/x-python",
   "name": "python",
   "nbconvert_exporter": "python",
   "pygments_lexer": "ipython3",
   "version": "3.7.1"
  }
 },
 "nbformat": 4,
 "nbformat_minor": 2
}
